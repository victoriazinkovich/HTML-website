{
 "cells": [
  {
   "cell_type": "code",
   "execution_count": 1,
   "id": "6146a9ba",
   "metadata": {},
   "outputs": [],
   "source": [
    "from flask import Flask, render_template, request, redirect, url_for, send_from_directory, jsonify, send_file\n",
    "from flask_socketio import SocketIO, emit\n",
    "\n",
    "import os\n",
    "import subprocess\n",
    "import time\n",
    "\n",
    "from flask_wtf import FlaskForm\n",
    "from wtforms import FileField, SubmitField\n",
    "from werkzeug.utils import secure_filename\n",
    "from wtforms.validators import InputRequired\n",
    "\n",
    "import os, shutil, os.path"
   ]
  },
  {
   "cell_type": "code",
   "execution_count": 2,
   "id": "cb47a636",
   "metadata": {},
   "outputs": [],
   "source": [
    "import pandas as pd\n",
    "import numpy as np\n",
    "from scipy import optimize\n",
    "import random\n",
    "\n",
    "from matplotlib import pyplot as plt\n",
    "from matplotlib.figure import Figure\n",
    "\n",
    "import matplotlib.ticker as ticker\n",
    "import csv\n",
    "import time\n",
    "import integrator\n",
    "import atm.core\n",
    "import atm.jobs as jr\n",
    "import re\n",
    "import seaborn as sns"
   ]
  },
  {
   "cell_type": "code",
   "execution_count": 3,
   "id": "96a0952e",
   "metadata": {},
   "outputs": [],
   "source": [
    "from io import BytesIO\n",
    "import base64"
   ]
  },
  {
   "cell_type": "markdown",
   "id": "d2780af4",
   "metadata": {},
   "source": [
    "### Main code"
   ]
  },
  {
   "cell_type": "markdown",
   "id": "f18b0798",
   "metadata": {},
   "source": [
    "Here the main code is located. It is based on the article https://journals.aps.org/prb/abstract/10.1103/PhysRevB.108.184103\n",
    "It cannot be published here, so I included only the example of sending graph to the website. "
   ]
  },
  {
   "cell_type": "code",
   "execution_count": 6,
   "id": "dccb75fb",
   "metadata": {},
   "outputs": [],
   "source": [
    "class MainClass:\n",
    "    def __init__(self, Tmelt, structure):\n",
    "        # init function\n",
    "    \n",
    "    \n",
    "    def Lines(self, Tmelt=None):\n",
    "        x = np.linspace(0.6*Tmelt, 1.4*Tmelt, 1000)\n",
    "        y = ksol*x+bsol\n",
    "        t = kliq*x+bliq\n",
    "        plt.plot(x,y, label='Potential energy of solid phase',  color='blue')\n",
    "        plt.plot(x,t, label='Potential energy of liquid phase', color='indianred')\n",
    "        plt.legend()\n",
    "        plt.grid()\n",
    "        plt.xlabel('Temperature, K')\n",
    "        plt.ylabel('Potential energy, eV')\n",
    "        plt.title('Al EAM')\n",
    "        plt.savefig('lines.png', facecolor='white',dpi=200)\n",
    "\n",
    "        # Send Graph to HTML\n",
    "        buffer = BytesIO()\n",
    "        plt.savefig(buffer, format='png')\n",
    "        buffer.seek(0)\n",
    "        plt.close()\n",
    "        socketio.emit('show_graph', base64.b64encode(buffer.read()).decode())\n",
    "        \n",
    "        return ksol, bsol, kliq, bliq\n",
    "\n",
    "    \n",
    "    def MainFunc(self,name):\n",
    "        Lines(...)\n",
    "        self.WriteResults(\"Gaussian process finished\")\n"
   ]
  },
  {
   "cell_type": "markdown",
   "id": "870fef39",
   "metadata": {},
   "source": [
    "### Main Flask Code"
   ]
  },
  {
   "cell_type": "code",
   "execution_count": 4,
   "id": "1864be2a",
   "metadata": {
    "scrolled": false
   },
   "outputs": [
    {
     "name": "stderr",
     "output_type": "stream",
     "text": [
      "WARNING:werkzeug:Werkzeug appears to be used in a production deployment. Consider switching to a production web server instead.\n"
     ]
    },
    {
     "name": "stdout",
     "output_type": "stream",
     "text": [
      " * Serving Flask app \"__main__\" (lazy loading)\n",
      " * Environment: production\n",
      "\u001b[31m   WARNING: This is a development server. Do not use it in a production deployment.\u001b[0m\n",
      "\u001b[2m   Use a production WSGI server instead.\u001b[0m\n",
      " * Debug mode: off\n"
     ]
    },
    {
     "name": "stderr",
     "output_type": "stream",
     "text": [
      "INFO:werkzeug: * Running on http://127.0.0.1:5000/ (Press CTRL+C to quit)\n",
      "INFO:werkzeug:127.0.0.1 - - [04/Mar/2024 10:08:52] \"GET / HTTP/1.1\" 200 -\n",
      "INFO:werkzeug:127.0.0.1 - - [04/Mar/2024 10:08:52] \"GET /static/images/side.png HTTP/1.1\" 200 -\n",
      "INFO:werkzeug:127.0.0.1 - - [04/Mar/2024 10:08:52] \"GET /static/images/arrow-1.jpg HTTP/1.1\" 200 -\n",
      "INFO:werkzeug:127.0.0.1 - - [04/Mar/2024 10:08:52] \"GET /static/images/punctir-left.png HTTP/1.1\" 200 -\n",
      "INFO:werkzeug:127.0.0.1 - - [04/Mar/2024 10:08:52] \"GET /static/images/punctir-right.png HTTP/1.1\" 200 -\n",
      "INFO:werkzeug:127.0.0.1 - - [04/Mar/2024 10:08:53] \"GET /static/images/background-2.png HTTP/1.1\" 200 -\n",
      "INFO:werkzeug:127.0.0.1 - - [04/Mar/2024 10:08:53] \"GET /static/images/cursor.jpg HTTP/1.1\" 200 -\n",
      "INFO:werkzeug:127.0.0.1 - - [04/Mar/2024 10:08:53] \"GET /static/images/fcc.png HTTP/1.1\" 200 -\n",
      "INFO:werkzeug:127.0.0.1 - - [04/Mar/2024 10:08:53] \"GET /static/images/track.gif HTTP/1.1\" 200 -\n",
      "INFO:werkzeug:127.0.0.1 - - [04/Mar/2024 10:08:53] \"GET /static/images/potential.png HTTP/1.1\" 200 -\n",
      "INFO:werkzeug:127.0.0.1 - - [04/Mar/2024 10:08:53] \"GET /static/images/aluminium.jpg HTTP/1.1\" 200 -\n",
      "INFO:werkzeug:127.0.0.1 - - [04/Mar/2024 10:08:54] \"\u001b[33mGET /favicon.ico HTTP/1.1\u001b[0m\" 404 -\n",
      "INFO:werkzeug:127.0.0.1 - - [04/Mar/2024 10:11:59] \"GET /try HTTP/1.1\" 200 -\n",
      "INFO:werkzeug:127.0.0.1 - - [04/Mar/2024 10:11:59] \"GET /static/images/spinner-5.gif HTTP/1.1\" 200 -\n",
      "INFO:werkzeug:127.0.0.1 - - [04/Mar/2024 10:11:59] \"GET /socket.io/?EIO=4&transport=polling&t=Ou8JXYx HTTP/1.1\" 200 -\n",
      "INFO:werkzeug:127.0.0.1 - - [04/Mar/2024 10:11:59] \"POST /socket.io/?EIO=4&transport=polling&t=Ou8JXZO&sid=qmxIkuRHVULgYgIXAAAA HTTP/1.1\" 200 -\n",
      "INFO:werkzeug:127.0.0.1 - - [04/Mar/2024 10:11:59] \"GET /socket.io/?EIO=4&transport=polling&t=Ou8JXZQ&sid=qmxIkuRHVULgYgIXAAAA HTTP/1.1\" 200 -\n"
     ]
    }
   ],
   "source": [
    "app = Flask(__name__)\n",
    "\n",
    "UPLOAD_FOLDER = 'uploads'\n",
    "app.config['UPLOAD_FOLDER'] = UPLOAD_FOLDER\n",
    "\n",
    "socketio = SocketIO(app)\n",
    "\n",
    "\n",
    "@socketio.on('build_graphs')\n",
    "def handle_build_graphs(data):\n",
    "    T = int(data['number'])\n",
    "    lattice = data['option']\n",
    "    potential = data['file']\n",
    "    print(f'Someone pressed the button: {T}, {lattice}...')\n",
    "    Alum = MainClass(T, lattice)\n",
    "    Alum.MainFunc('Al_0707.csv')\n",
    "    socketio.emit('finish')\n",
    "    \n",
    "\n",
    "@app.route('/try', methods=['GET', 'POST'])\n",
    "def try_page():\n",
    "    if request.method == 'POST':\n",
    "        if 'file' in request.files:\n",
    "            file = request.files['file']\n",
    "            if file:\n",
    "                path = os.path.join(app.config['UPLOAD_FOLDER'])\n",
    "                fldr_to = f'user'\n",
    "                #shutil.copytree(os.path.join(path, 'template'), os.path.join(path, fldr_to))\n",
    "                filename = os.path.join(path, fldr_to, file.filename)\n",
    "                file.save(filename)\n",
    "                return \"File uploaded\"\n",
    "    return render_template('index.html')\n",
    "\n",
    "\n",
    "# Route for the main page\n",
    "@app.route('/')\n",
    "def main_page():\n",
    "    return render_template('base.html')\n",
    "\n",
    "\n",
    "if __name__ == '__main__':\n",
    "    socketio.run(app, allow_unsafe_werkzeug=True)"
   ]
  },
  {
   "cell_type": "code",
   "execution_count": null,
   "id": "d75d6b05",
   "metadata": {},
   "outputs": [],
   "source": []
  },
  {
   "cell_type": "markdown",
   "id": "2f53a11c",
   "metadata": {},
   "source": [
    "## Examples"
   ]
  },
  {
   "cell_type": "markdown",
   "id": "958c08eb",
   "metadata": {},
   "source": [
    "### File Upload Example"
   ]
  },
  {
   "cell_type": "code",
   "execution_count": null,
   "id": "8b0c64f7",
   "metadata": {},
   "outputs": [],
   "source": [
    "@app.route('/try', methods=['GET', 'POST'])\n",
    "def try_page():\n",
    "    if request.method == 'POST':\n",
    "        if 'file' in request.files:\n",
    "            file = request.files['file']\n",
    "            if file:\n",
    "                path = os.path.join(app.config['UPLOAD_FOLDER'])\n",
    "                fldr_to = f'user'\n",
    "                #shutil.copytree(os.path.join(path, 'template'), os.path.join(path, fldr_to))\n",
    "                filename = os.path.join(path, fldr_to, file.filename)\n",
    "                file.save(filename)\n",
    "                return \"File uploaded\"\n",
    "    return render_template('index.html')"
   ]
  },
  {
   "cell_type": "markdown",
   "id": "2a5e7723",
   "metadata": {},
   "source": [
    "### Display 5 graphs on the page"
   ]
  },
  {
   "cell_type": "code",
   "execution_count": null,
   "id": "aa102828",
   "metadata": {},
   "outputs": [],
   "source": [
    "from flask import Flask, render_template\n",
    "from flask_socketio import SocketIO\n",
    "import matplotlib.pyplot as plt\n",
    "from io import BytesIO\n",
    "import base64\n",
    "import threading\n",
    "import time\n",
    "\n",
    "app = Flask(__name__)\n",
    "app.config['SECRET_KEY'] = 'secret!'\n",
    "socketio = SocketIO(app)\n",
    "\n",
    "def generate_graphs():\n",
    "    graphs = []\n",
    "    colors = ['red', 'orange', 'green', 'blue', 'purple']\n",
    "    for i in range(5):  # Generate 5 graphs\n",
    "        plt.figure()\n",
    "        plt.plot(range(10), [x ** 2 for x in range(10)], color=colors[i])\n",
    "        plt.xlabel('X-axis')\n",
    "        plt.ylabel('Y-axis')\n",
    "        plt.title(f'Graph {i + 1}')\n",
    "        plt.grid(True)\n",
    "        buffer = BytesIO()\n",
    "        plt.savefig(buffer, format='png')\n",
    "        buffer.seek(0)\n",
    "        plt.close()\n",
    "        time.sleep(2)\n",
    "        # Send the finished message\n",
    "        socketio.emit('converge_graph', base64.b64encode(buffer.read()).decode())\n",
    "    socketio.emit('status', 'finished')\n",
    "\n",
    "@app.route('/')\n",
    "def index():\n",
    "    return render_template('try-1.html')\n",
    "\n",
    "@socketio.on('connect')\n",
    "def handle_connect():\n",
    "    # Start a new thread to generate graphs and send them to the client\n",
    "    threading.Thread(target=generate_graphs).start()\n",
    "\n",
    "if __name__ == '__main__':\n",
    "    socketio.run(app, allow_unsafe_werkzeug=True)"
   ]
  },
  {
   "cell_type": "code",
   "execution_count": null,
   "id": "091e61d1",
   "metadata": {},
   "outputs": [],
   "source": []
  }
 ],
 "metadata": {
  "kernelspec": {
   "display_name": "Python 3 (ipykernel)",
   "language": "python",
   "name": "python3"
  },
  "language_info": {
   "codemirror_mode": {
    "name": "ipython",
    "version": 3
   },
   "file_extension": ".py",
   "mimetype": "text/x-python",
   "name": "python",
   "nbconvert_exporter": "python",
   "pygments_lexer": "ipython3",
   "version": "3.9.15"
  }
 },
 "nbformat": 4,
 "nbformat_minor": 5
}
